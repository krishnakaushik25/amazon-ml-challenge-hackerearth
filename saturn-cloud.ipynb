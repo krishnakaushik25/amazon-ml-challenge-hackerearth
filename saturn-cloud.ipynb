{
 "cells": [
  {
   "cell_type": "code",
   "execution_count": 1,
   "id": "manufactured-quest",
   "metadata": {},
   "outputs": [],
   "source": [
    "import pandas as pd\n",
    "import numpy as np"
   ]
  },
  {
   "cell_type": "code",
   "execution_count": 12,
   "id": "naked-vancouver",
   "metadata": {},
   "outputs": [
    {
     "data": {
      "text/html": [
       "<div>\n",
       "<style scoped>\n",
       "    .dataframe tbody tr th:only-of-type {\n",
       "        vertical-align: middle;\n",
       "    }\n",
       "\n",
       "    .dataframe tbody tr th {\n",
       "        vertical-align: top;\n",
       "    }\n",
       "\n",
       "    .dataframe thead th {\n",
       "        text-align: right;\n",
       "    }\n",
       "</style>\n",
       "<table border=\"1\" class=\"dataframe\">\n",
       "  <thead>\n",
       "    <tr style=\"text-align: right;\">\n",
       "      <th></th>\n",
       "      <th>text</th>\n",
       "      <th>Brand</th>\n",
       "      <th>NODE_ID</th>\n",
       "    </tr>\n",
       "  </thead>\n",
       "  <tbody>\n",
       "    <tr>\n",
       "      <th>0</th>\n",
       "      <td>pete cat bedtim blue doll inch pete cat bedtim...</td>\n",
       "      <td>merrymak</td>\n",
       "      <td>0</td>\n",
       "    </tr>\n",
       "    <tr>\n",
       "      <th>1</th>\n",
       "      <td>new yorker nyhm refriger magnet x cat tea cup ...</td>\n",
       "      <td>new yorker</td>\n",
       "      <td>1</td>\n",
       "    </tr>\n",
       "    <tr>\n",
       "      <th>2</th>\n",
       "      <td>ultim selfsuffici handbook complet guid bake c...</td>\n",
       "      <td>imusti</td>\n",
       "      <td>2</td>\n",
       "    </tr>\n",
       "    <tr>\n",
       "      <th>3</th>\n",
       "      <td>amway nutrilit kid chewabl iron tablet nutrili...</td>\n",
       "      <td>amway</td>\n",
       "      <td>3</td>\n",
       "    </tr>\n",
       "    <tr>\n",
       "      <th>4</th>\n",
       "      <td>teacher planner compani lesson academ teacher ...</td>\n",
       "      <td>NaN</td>\n",
       "      <td>4</td>\n",
       "    </tr>\n",
       "  </tbody>\n",
       "</table>\n",
       "</div>"
      ],
      "text/plain": [
       "                                                text       Brand  NODE_ID\n",
       "0  pete cat bedtim blue doll inch pete cat bedtim...    merrymak        0\n",
       "1  new yorker nyhm refriger magnet x cat tea cup ...  new yorker        1\n",
       "2  ultim selfsuffici handbook complet guid bake c...      imusti        2\n",
       "3  amway nutrilit kid chewabl iron tablet nutrili...       amway        3\n",
       "4  teacher planner compani lesson academ teacher ...         NaN        4"
      ]
     },
     "execution_count": 12,
     "metadata": {},
     "output_type": "execute_result"
    }
   ],
   "source": [
    "df=pd.read_csv(\"./cleaned_train.csv\")\n",
    "df.head()"
   ]
  },
  {
   "cell_type": "code",
   "execution_count": 13,
   "id": "normal-subject",
   "metadata": {},
   "outputs": [
    {
     "data": {
      "text/plain": [
       "text           0\n",
       "Brand      65053\n",
       "NODE_ID        0\n",
       "dtype: int64"
      ]
     },
     "execution_count": 13,
     "metadata": {},
     "output_type": "execute_result"
    }
   ],
   "source": [
    "df.isnull().sum(axis = 0)"
   ]
  },
  {
   "cell_type": "code",
   "execution_count": 14,
   "id": "monthly-killing",
   "metadata": {},
   "outputs": [],
   "source": [
    "df = df.dropna()\n",
    "df = df.reset_index(drop=True)"
   ]
  },
  {
   "cell_type": "code",
   "execution_count": 16,
   "id": "available-compression",
   "metadata": {},
   "outputs": [
    {
     "data": {
      "text/plain": [
       "(31218, 3)"
      ]
     },
     "execution_count": 16,
     "metadata": {},
     "output_type": "execute_result"
    }
   ],
   "source": [
    "df1.shape"
   ]
  },
  {
   "cell_type": "code",
   "execution_count": 18,
   "id": "signed-amount",
   "metadata": {},
   "outputs": [
    {
     "data": {
      "text/plain": [
       "text       0\n",
       "NODE_ID    0\n",
       "dtype: int64"
      ]
     },
     "execution_count": 18,
     "metadata": {},
     "output_type": "execute_result"
    }
   ],
   "source": [
    "df1.isnull().sum(axis = 0)"
   ]
  },
  {
   "cell_type": "code",
   "execution_count": 15,
   "id": "banner-africa",
   "metadata": {},
   "outputs": [],
   "source": [
    "df1 = df.sample(frac=0.011).reset_index(drop=True)"
   ]
  },
  {
   "cell_type": "code",
   "execution_count": 17,
   "id": "behind-vector",
   "metadata": {},
   "outputs": [],
   "source": [
    "del df1['Brand']"
   ]
  },
  {
   "cell_type": "code",
   "execution_count": 19,
   "id": "modular-custom",
   "metadata": {},
   "outputs": [],
   "source": [
    "# model part\n",
    "from sklearn.linear_model import LogisticRegression\n",
    "from sklearn.naive_bayes import MultinomialNB\n",
    "from sklearn.ensemble import RandomForestClassifier\n",
    "from sklearn.svm import LinearSVC\n",
    "from sklearn.ensemble import GradientBoostingClassifier\n",
    "from sklearn.model_selection import GridSearchCV\n",
    "\n",
    "from sklearn.metrics import accuracy_score, classification_report\n",
    "X = df1.iloc[:,:-1]\n",
    "y = df1.iloc[:,-1]\n"
   ]
  },
  {
   "cell_type": "code",
   "execution_count": 20,
   "id": "raised-humidity",
   "metadata": {},
   "outputs": [],
   "source": [
    "from sklearn.feature_extraction.text import CountVectorizer\n",
    "from sklearn.feature_extraction.text import TfidfTransformer\n",
    "from sklearn.model_selection import train_test_split"
   ]
  },
  {
   "cell_type": "code",
   "execution_count": 23,
   "id": "artificial-henry",
   "metadata": {},
   "outputs": [],
   "source": [
    "#splitting the dataset into training and test parts\n",
    "x_train, x_test, y_train, y_test = train_test_split(X, y, test_size=0.33, random_state=42)"
   ]
  },
  {
   "cell_type": "code",
   "execution_count": 24,
   "id": "increasing-update",
   "metadata": {},
   "outputs": [
    {
     "data": {
      "text/plain": [
       "((20916, 1), (10302, 1), (20916,), (10302,))"
      ]
     },
     "execution_count": 24,
     "metadata": {},
     "output_type": "execute_result"
    }
   ],
   "source": [
    "x_train.shape, x_test.shape, y_train.shape, y_test.shape"
   ]
  },
  {
   "cell_type": "code",
   "execution_count": 25,
   "id": "optical-litigation",
   "metadata": {},
   "outputs": [
    {
     "data": {
      "text/plain": [
       "8803     cl chines laundri women hira ballet flat rhine...\n",
       "23680    unit color benetton boy stripe regular fit pol...\n",
       "23394    madhav handicraft sheesham wood bedsid tabl si...\n",
       "27159    thegiftkart samsung j prime back case cover fu...\n",
       "29334    larg capac plastic water bottl sport picnic bi...\n",
       "Name: text, dtype: object"
      ]
     },
     "execution_count": 25,
     "metadata": {},
     "output_type": "execute_result"
    }
   ],
   "source": [
    "x_train.text.head()"
   ]
  },
  {
   "cell_type": "code",
   "execution_count": 26,
   "id": "fuzzy-security",
   "metadata": {},
   "outputs": [],
   "source": [
    "from sklearn.pipeline import Pipeline\n",
    "svc = Pipeline([('vect', CountVectorizer(ngram_range=(1,2))),\n",
    "               ('tfidf', TfidfTransformer(use_idf=False)),\n",
    "               ('model',LinearSVC(random_state=42,C=10)),\n",
    "               ])"
   ]
  },
  {
   "cell_type": "code",
   "execution_count": 27,
   "id": "heated-nepal",
   "metadata": {},
   "outputs": [
    {
     "data": {
      "text/plain": [
       "Pipeline(steps=[('vect', CountVectorizer(ngram_range=(1, 2))),\n",
       "                ('tfidf', TfidfTransformer(use_idf=False)),\n",
       "                ('model', LinearSVC(C=10, random_state=42))])"
      ]
     },
     "execution_count": 27,
     "metadata": {},
     "output_type": "execute_result"
    }
   ],
   "source": [
    "svc.fit(x_train.text, y_train)"
   ]
  },
  {
   "cell_type": "code",
   "execution_count": 28,
   "id": "spare-shoot",
   "metadata": {},
   "outputs": [],
   "source": [
    "ytest = np.array(y_test)\n",
    "pred_y = svc.predict(x_test.text)"
   ]
  },
  {
   "cell_type": "code",
   "execution_count": 29,
   "id": "foster-spell",
   "metadata": {},
   "outputs": [
    {
     "data": {
      "text/plain": [
       "(10302,)"
      ]
     },
     "execution_count": 29,
     "metadata": {},
     "output_type": "execute_result"
    }
   ],
   "source": [
    "pred_y.shape"
   ]
  },
  {
   "cell_type": "code",
   "execution_count": 30,
   "id": "retained-coach",
   "metadata": {},
   "outputs": [
    {
     "data": {
      "text/plain": [
       "array([1602, 1052, 1045, 7678,   92])"
      ]
     },
     "execution_count": 30,
     "metadata": {},
     "output_type": "execute_result"
    }
   ],
   "source": [
    "pred_y[:5]"
   ]
  },
  {
   "cell_type": "code",
   "execution_count": 31,
   "id": "prompt-reform",
   "metadata": {},
   "outputs": [
    {
     "name": "stdout",
     "output_type": "stream",
     "text": [
      "accuracy 0.5972626674432149\n"
     ]
    }
   ],
   "source": [
    "print('accuracy %s' % accuracy_score(pred_y, y_test))"
   ]
  },
  {
   "cell_type": "code",
   "execution_count": 32,
   "id": "compound-upper",
   "metadata": {},
   "outputs": [],
   "source": [
    "import pandas as pd\n",
    "import numpy as np\n",
    "\n",
    "df=pd.read_csv(r\"./cleaned_test.csv\")\n"
   ]
  },
  {
   "cell_type": "code",
   "execution_count": 33,
   "id": "polished-friendship",
   "metadata": {},
   "outputs": [
    {
     "data": {
      "text/html": [
       "<div>\n",
       "<style scoped>\n",
       "    .dataframe tbody tr th:only-of-type {\n",
       "        vertical-align: middle;\n",
       "    }\n",
       "\n",
       "    .dataframe tbody tr th {\n",
       "        vertical-align: top;\n",
       "    }\n",
       "\n",
       "    .dataframe thead th {\n",
       "        text-align: right;\n",
       "    }\n",
       "</style>\n",
       "<table border=\"1\" class=\"dataframe\">\n",
       "  <thead>\n",
       "    <tr style=\"text-align: right;\">\n",
       "      <th></th>\n",
       "      <th>text</th>\n",
       "      <th>Brand</th>\n",
       "    </tr>\n",
       "  </thead>\n",
       "  <tbody>\n",
       "    <tr>\n",
       "      <th>0</th>\n",
       "      <td>command small kitchen hook white decor damag f...</td>\n",
       "      <td>command</td>\n",
       "    </tr>\n",
       "    <tr>\n",
       "      <th>1</th>\n",
       "      <td>oneal jump hardwar jag unisexadult glove black...</td>\n",
       "      <td>oneal</td>\n",
       "    </tr>\n",
       "    <tr>\n",
       "      <th>2</th>\n",
       "      <td>nfl detroit lion portabl parti fridg quart run...</td>\n",
       "      <td>boelter brand</td>\n",
       "    </tr>\n",
       "    <tr>\n",
       "      <th>3</th>\n",
       "      <td>panason singl line kxtsmx cord phone white pan...</td>\n",
       "      <td>panason</td>\n",
       "    </tr>\n",
       "    <tr>\n",
       "      <th>4</th>\n",
       "      <td>zero babi girl cotton innerwear bloomer drawer...</td>\n",
       "      <td>zero</td>\n",
       "    </tr>\n",
       "  </tbody>\n",
       "</table>\n",
       "</div>"
      ],
      "text/plain": [
       "                                                text          Brand\n",
       "0  command small kitchen hook white decor damag f...        command\n",
       "1  oneal jump hardwar jag unisexadult glove black...          oneal\n",
       "2  nfl detroit lion portabl parti fridg quart run...  boelter brand\n",
       "3  panason singl line kxtsmx cord phone white pan...        panason\n",
       "4  zero babi girl cotton innerwear bloomer drawer...           zero"
      ]
     },
     "execution_count": 33,
     "metadata": {},
     "output_type": "execute_result"
    }
   ],
   "source": [
    "df.head()"
   ]
  },
  {
   "cell_type": "code",
   "execution_count": 34,
   "id": "running-visitor",
   "metadata": {},
   "outputs": [
    {
     "data": {
      "text/plain": [
       "(110775, 2)"
      ]
     },
     "execution_count": 34,
     "metadata": {},
     "output_type": "execute_result"
    }
   ],
   "source": [
    "df.shape"
   ]
  },
  {
   "cell_type": "code",
   "execution_count": 35,
   "id": "drawn-philadelphia",
   "metadata": {},
   "outputs": [
    {
     "data": {
      "text/plain": [
       "text        0\n",
       "Brand    2663\n",
       "dtype: int64"
      ]
     },
     "execution_count": 35,
     "metadata": {},
     "output_type": "execute_result"
    }
   ],
   "source": [
    "df.isnull().sum(axis = 0)"
   ]
  },
  {
   "cell_type": "code",
   "execution_count": 36,
   "id": "protected-structure",
   "metadata": {},
   "outputs": [],
   "source": [
    "del df['Brand']"
   ]
  },
  {
   "cell_type": "code",
   "execution_count": 37,
   "id": "mental-refund",
   "metadata": {},
   "outputs": [],
   "source": [
    "product_ids =list(range(1,110776))"
   ]
  },
  {
   "cell_type": "code",
   "execution_count": 38,
   "id": "dimensional-profile",
   "metadata": {},
   "outputs": [],
   "source": [
    "import numpy as np\n",
    "x=np.array_split(product_ids,10)\n",
    "product_ids_1,product_ids_2,product_ids_3,product_ids_4,product_ids_5,product_ids_6,product_ids_7,product_ids_8,product_ids_9,product_ids_10 = x[0].tolist(),x[1].tolist(),x[2].tolist(),x[3].tolist(),x[4].tolist(),x[5].tolist(),x[6].tolist(),x[7].tolist(),x[8].tolist(),x[9].tolist()"
   ]
  },
  {
   "cell_type": "code",
   "execution_count": 39,
   "id": "specified-appointment",
   "metadata": {},
   "outputs": [
    {
     "data": {
      "text/plain": [
       "11078"
      ]
     },
     "execution_count": 39,
     "metadata": {},
     "output_type": "execute_result"
    }
   ],
   "source": [
    "len(product_ids_1)"
   ]
  },
  {
   "cell_type": "code",
   "execution_count": 43,
   "id": "direct-optimization",
   "metadata": {},
   "outputs": [],
   "source": [
    "df1= df[:11078]\n",
    "\n",
    "predictions1 =svc.predict(df1.text)\n",
    "\n",
    "my_submission1 = pd.DataFrame({'PRODUCT_ID':product_ids_1,'BROWSE_NODE_ID':predictions1})\n",
    "\n",
    "my_submission1.to_csv('./submissions/file_1.csv', index=False)\n"
   ]
  },
  {
   "cell_type": "code",
   "execution_count": 44,
   "id": "casual-grammar",
   "metadata": {},
   "outputs": [],
   "source": [
    "df2= df.iloc[11078:22156,:]\n",
    "df3= df.iloc[22156:33234,:]\n",
    "df4= df.iloc[33234:44312,:]\n",
    "df5= df.iloc[44312:55390,:]\n",
    "df6= df.iloc[55390:66467,:]\n",
    "df7= df.iloc[66467:77544,:]\n",
    "df8= df.iloc[77544:88621,:]\n",
    "df9= df.iloc[88621:99698,:]\n",
    "df10= df.iloc[99698:110775,:]"
   ]
  },
  {
   "cell_type": "code",
   "execution_count": 45,
   "id": "played-liverpool",
   "metadata": {},
   "outputs": [],
   "source": [
    "predictions2 =svc.predict(df2.text)\n",
    "predictions3 =svc.predict(df3.text)\n",
    "predictions4 =svc.predict(df4.text)\n",
    "predictions5 =svc.predict(df5.text)\n",
    "predictions6 =svc.predict(df6.text)\n",
    "predictions7 =svc.predict(df7.text)\n",
    "predictions8 =svc.predict(df8.text)\n",
    "predictions9 =svc.predict(df9.text)\n",
    "predictions10 =svc.predict(df10.text)"
   ]
  },
  {
   "cell_type": "code",
   "execution_count": 46,
   "id": "competent-handy",
   "metadata": {},
   "outputs": [],
   "source": [
    "my_submission2 = pd.DataFrame({'PRODUCT_ID':product_ids_2,'BROWSE_NODE_ID':predictions2})\n",
    "my_submission3 = pd.DataFrame({'PRODUCT_ID':product_ids_3,'BROWSE_NODE_ID':predictions3})\n",
    "my_submission4 = pd.DataFrame({'PRODUCT_ID':product_ids_4,'BROWSE_NODE_ID':predictions4})\n",
    "my_submission5 = pd.DataFrame({'PRODUCT_ID':product_ids_5,'BROWSE_NODE_ID':predictions5})\n",
    "my_submission6 = pd.DataFrame({'PRODUCT_ID':product_ids_6,'BROWSE_NODE_ID':predictions6})\n",
    "my_submission7 = pd.DataFrame({'PRODUCT_ID':product_ids_7,'BROWSE_NODE_ID':predictions7})\n",
    "my_submission8 = pd.DataFrame({'PRODUCT_ID':product_ids_8,'BROWSE_NODE_ID':predictions8})\n",
    "my_submission9 = pd.DataFrame({'PRODUCT_ID':product_ids_9,'BROWSE_NODE_ID':predictions9})\n",
    "my_submission10 = pd.DataFrame({'PRODUCT_ID':product_ids_10,'BROWSE_NODE_ID':predictions10})"
   ]
  },
  {
   "cell_type": "code",
   "execution_count": 47,
   "id": "brown-patch",
   "metadata": {},
   "outputs": [],
   "source": [
    "my_submission2.to_csv('./submissions/file_2.csv', index=False)\n",
    "my_submission3.to_csv('./submissions/file_3.csv', index=False)\n",
    "my_submission4.to_csv('./submissions/file_4.csv', index=False)\n",
    "my_submission5.to_csv('./submissions/file_5.csv', index=False)\n",
    "my_submission6.to_csv('./submissions/file_6.csv', index=False)\n",
    "my_submission7.to_csv('./submissions/file_7.csv', index=False)\n",
    "my_submission8.to_csv('./submissions/file_8.csv', index=False)\n",
    "my_submission9.to_csv('./submissions/file_9.csv', index=False)\n",
    "my_submission10.to_csv('./submissions/file_10.csv', index=False)"
   ]
  },
  {
   "cell_type": "code",
   "execution_count": 49,
   "id": "happy-party",
   "metadata": {},
   "outputs": [],
   "source": [
    "import os, glob\n",
    "import pandas as pd\n",
    "\n",
    "path = \"./submissions/\"\n"
   ]
  },
  {
   "cell_type": "code",
   "execution_count": 53,
   "id": "fiscal-confidentiality",
   "metadata": {},
   "outputs": [],
   "source": [
    "all_files = glob.glob(os.path.join(path, \"*.csv\"))"
   ]
  },
  {
   "cell_type": "code",
   "execution_count": 57,
   "id": "dedicated-endorsement",
   "metadata": {},
   "outputs": [],
   "source": [
    "all_files = ['./submissions/file_1.csv',\n",
    " './submissions/file_2.csv',\n",
    " './submissions/file_3.csv',\n",
    " './submissions/file_4.csv',\n",
    " './submissions/file_5.csv',\n",
    " './submissions/file_6.csv',\n",
    " './submissions/file_7.csv',\n",
    " './submissions/file_8.csv',\n",
    " './submissions/file_9.csv',\n",
    " './submissions/file_10.csv']"
   ]
  },
  {
   "cell_type": "code",
   "execution_count": 58,
   "id": "biblical-happiness",
   "metadata": {},
   "outputs": [],
   "source": [
    "df_from_each_file = (pd.read_csv(f, sep=',') for f in all_files)\n",
    "df_merged   = pd.concat(df_from_each_file, ignore_index=True)\n",
    "df_merged.to_csv(\"merged_1.csv\")"
   ]
  },
  {
   "cell_type": "code",
   "execution_count": null,
   "id": "neutral-wonder",
   "metadata": {},
   "outputs": [],
   "source": []
  }
 ],
 "metadata": {
  "kernelspec": {
   "display_name": "saturn (Python 3)",
   "language": "python",
   "name": "python3"
  },
  "language_info": {
   "codemirror_mode": {
    "name": "ipython",
    "version": 3
   },
   "file_extension": ".py",
   "mimetype": "text/x-python",
   "name": "python",
   "nbconvert_exporter": "python",
   "pygments_lexer": "ipython3",
   "version": "3.7.10"
  }
 },
 "nbformat": 4,
 "nbformat_minor": 5
}
